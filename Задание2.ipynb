{
 "cells": [
  {
   "cell_type": "code",
   "execution_count": 1,
   "metadata": {},
   "outputs": [],
   "source": [
    "import pandas as pd"
   ]
  },
  {
   "cell_type": "code",
   "execution_count": 3,
   "metadata": {},
   "outputs": [
    {
     "data": {
      "text/plain": [
       "118284.0"
      ]
     },
     "execution_count": 3,
     "metadata": {},
     "output_type": "execute_result"
    }
   ],
   "source": [
    "df = pd.read_csv('power.csv')\n",
    "df.head()\n",
    "fc = df[ (df['country']=='Latvia') | (df['country']=='Litva') | (df['country']=='Estonia') ]\n",
    "fc1 = fc[ (fc['category']==4) | (fc['category']==12) | (fc['category']==21) ]\n",
    "fc2 = fc1[ (fc1['year'] <= 2010) & (fc1['year'] >= 2005)]\n",
    "fc3 = fc2[ (fc2['quantity'] >= 0)]\n",
    "fc3['quantity'].sum()"
   ]
  }
 ],
 "metadata": {
  "kernelspec": {
   "display_name": "Python 3",
   "language": "python",
   "name": "python3"
  },
  "language_info": {
   "codemirror_mode": {
    "name": "ipython",
    "version": 3
   },
   "file_extension": ".py",
   "mimetype": "text/x-python",
   "name": "python",
   "nbconvert_exporter": "python",
   "pygments_lexer": "ipython3",
   "version": "3.8.3"
  }
 },
 "nbformat": 4,
 "nbformat_minor": 4
}
