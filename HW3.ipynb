{
 "cells": [
  {
   "cell_type": "code",
   "execution_count": 7,
   "metadata": {},
   "outputs": [
    {
     "data": {
      "text/plain": [
       "array([9, 8, 7, 6, 5, 4, 3, 2, 1, 0])"
      ]
     },
     "execution_count": 7,
     "metadata": {},
     "output_type": "execute_result"
    }
   ],
   "source": [
    "#Создайте numpyarray с элементами от числа N до 0 (например, для N = 10 это будет array([9, 8, 7, 6, 5, 4, 3, 2, 1, 0])).\n",
    "\n",
    "import numpy as np\n",
    "np.arange(9, -1, -1)"
   ]
  },
  {
   "cell_type": "code",
   "execution_count": 18,
   "metadata": {},
   "outputs": [
    {
     "data": {
      "text/plain": [
       "array([[10,  0,  0,  0,  0,  0,  0,  0,  0,  0,  0],\n",
       "       [ 0,  9,  0,  0,  0,  0,  0,  0,  0,  0,  0],\n",
       "       [ 0,  0,  8,  0,  0,  0,  0,  0,  0,  0,  0],\n",
       "       [ 0,  0,  0,  7,  0,  0,  0,  0,  0,  0,  0],\n",
       "       [ 0,  0,  0,  0,  6,  0,  0,  0,  0,  0,  0],\n",
       "       [ 0,  0,  0,  0,  0,  5,  0,  0,  0,  0,  0],\n",
       "       [ 0,  0,  0,  0,  0,  0,  4,  0,  0,  0,  0],\n",
       "       [ 0,  0,  0,  0,  0,  0,  0,  3,  0,  0,  0],\n",
       "       [ 0,  0,  0,  0,  0,  0,  0,  0,  2,  0,  0],\n",
       "       [ 0,  0,  0,  0,  0,  0,  0,  0,  0,  1,  0],\n",
       "       [ 0,  0,  0,  0,  0,  0,  0,  0,  0,  0,  0]])"
      ]
     },
     "execution_count": 18,
     "metadata": {},
     "output_type": "execute_result"
    }
   ],
   "source": [
    "#Создайте диагональную матрицу с элементами от N до 0. Посчитайте сумму ее значений на диагонали.\n",
    "\n",
    "N = 10\n",
    "np.diag(np.arange(N, -1, -1), k=0)\n"
   ]
  },
  {
   "cell_type": "code",
   "execution_count": 21,
   "metadata": {},
   "outputs": [
    {
     "data": {
      "text/plain": [
       "55"
      ]
     },
     "execution_count": 21,
     "metadata": {},
     "output_type": "execute_result"
    }
   ],
   "source": [
    "np.sum(np.diag(np.arange(N, -1, -1), k=0))"
   ]
  },
  {
   "cell_type": "code",
   "execution_count": 32,
   "metadata": {},
   "outputs": [],
   "source": [
    "a = np.array([[4, 2, 1], [1, 3, 0], [0, 5, 4]])\n",
    "b = np.array([4, 12, -3])"
   ]
  },
  {
   "cell_type": "code",
   "execution_count": null,
   "metadata": {},
   "outputs": [],
   "source": [
    "#задание3"
   ]
  },
  {
   "cell_type": "code",
   "execution_count": 33,
   "metadata": {},
   "outputs": [],
   "source": [
    "from numpy import linalg"
   ]
  },
  {
   "cell_type": "code",
   "execution_count": 34,
   "metadata": {},
   "outputs": [
    {
     "data": {
      "text/plain": [
       "array([ 0.46666667,  3.84444444, -5.55555556])"
      ]
     },
     "execution_count": 34,
     "metadata": {},
     "output_type": "execute_result"
    }
   ],
   "source": [
    "linalg.solve(a, b)"
   ]
  },
  {
   "cell_type": "code",
   "execution_count": 35,
   "metadata": {},
   "outputs": [
    {
     "data": {
      "text/plain": [
       "True"
      ]
     },
     "execution_count": 35,
     "metadata": {},
     "output_type": "execute_result"
    }
   ],
   "source": [
    "np.allclose( np.dot(a, linalg.solve(a, b)), b )"
   ]
  },
  {
   "cell_type": "code",
   "execution_count": null,
   "metadata": {},
   "outputs": [],
   "source": [
    "#задание4\n",
    "Для датафреймаlog из материалов занятия создайте столбец source_type по следующим правилам:\n",
    "- если источник traffic_source равен yandex или google, то в source_type ставится organic\n",
    "- для источников paid и email из России - ставим ad\n",
    "- для источников paid и email не из России - ставим other\n",
    "- все остальные варианты берем из traffic_source без изменений"
   ]
  },
  {
   "cell_type": "code",
   "execution_count": 36,
   "metadata": {},
   "outputs": [],
   "source": [
    "import pandas as pd"
   ]
  },
  {
   "cell_type": "code",
   "execution_count": 39,
   "metadata": {},
   "outputs": [
    {
     "data": {
      "text/html": [
       "<div>\n",
       "<style scoped>\n",
       "    .dataframe tbody tr th:only-of-type {\n",
       "        vertical-align: middle;\n",
       "    }\n",
       "\n",
       "    .dataframe tbody tr th {\n",
       "        vertical-align: top;\n",
       "    }\n",
       "\n",
       "    .dataframe thead th {\n",
       "        text-align: right;\n",
       "    }\n",
       "</style>\n",
       "<table border=\"1\" class=\"dataframe\">\n",
       "  <thead>\n",
       "    <tr style=\"text-align: right;\">\n",
       "      <th></th>\n",
       "      <th>timestamp</th>\n",
       "      <th>visit_id</th>\n",
       "      <th>url</th>\n",
       "      <th>region</th>\n",
       "      <th>user_id</th>\n",
       "      <th>traffic_source</th>\n",
       "    </tr>\n",
       "  </thead>\n",
       "  <tbody>\n",
       "    <tr>\n",
       "      <td>0</td>\n",
       "      <td>1549980692</td>\n",
       "      <td>e3b0c44298</td>\n",
       "      <td>https://host.ru/3c19b4ef7371864fa3</td>\n",
       "      <td>Russia</td>\n",
       "      <td>b1613cc09f</td>\n",
       "      <td>yandex</td>\n",
       "    </tr>\n",
       "    <tr>\n",
       "      <td>1</td>\n",
       "      <td>1549980704</td>\n",
       "      <td>6e340b9cff</td>\n",
       "      <td>https://host.ru/c8d9213a31839f9a3a</td>\n",
       "      <td>Russia</td>\n",
       "      <td>4c3ec14bee</td>\n",
       "      <td>direct</td>\n",
       "    </tr>\n",
       "    <tr>\n",
       "      <td>2</td>\n",
       "      <td>1549980715</td>\n",
       "      <td>96a296d224</td>\n",
       "      <td>https://host.ru/b8b58337d272ee7b15</td>\n",
       "      <td>Russia</td>\n",
       "      <td>a8c40697fb</td>\n",
       "      <td>yandex</td>\n",
       "    </tr>\n",
       "    <tr>\n",
       "      <td>3</td>\n",
       "      <td>1549980725</td>\n",
       "      <td>709e80c884</td>\n",
       "      <td>https://host.ru/b8b58337d272ee7b15</td>\n",
       "      <td>Russia</td>\n",
       "      <td>521ac1d6a0</td>\n",
       "      <td>yandex</td>\n",
       "    </tr>\n",
       "    <tr>\n",
       "      <td>4</td>\n",
       "      <td>1549980736</td>\n",
       "      <td>df3f619804</td>\n",
       "      <td>https://host.ru/b8b58337d272ee7b15</td>\n",
       "      <td>Russia</td>\n",
       "      <td>d7323c571c</td>\n",
       "      <td>yandex</td>\n",
       "    </tr>\n",
       "    <tr>\n",
       "      <td>5</td>\n",
       "      <td>1549980742</td>\n",
       "      <td>8855508aad</td>\n",
       "      <td>https://host.ru/df646c3676cc259fa0</td>\n",
       "      <td>Russia</td>\n",
       "      <td>fc43898e47</td>\n",
       "      <td>yandex</td>\n",
       "    </tr>\n",
       "    <tr>\n",
       "      <td>6</td>\n",
       "      <td>1549980742</td>\n",
       "      <td>b0f66adc83</td>\n",
       "      <td>https://host.ru/b8b58337d272ee7b15</td>\n",
       "      <td>Russia</td>\n",
       "      <td>13fc55e781</td>\n",
       "      <td>paid</td>\n",
       "    </tr>\n",
       "    <tr>\n",
       "      <td>7</td>\n",
       "      <td>1549980754</td>\n",
       "      <td>837885c8f8</td>\n",
       "      <td>https://host.ru/108ce4b365afb7b88e</td>\n",
       "      <td>Russia</td>\n",
       "      <td>cb5082b6f6</td>\n",
       "      <td>direct</td>\n",
       "    </tr>\n",
       "    <tr>\n",
       "      <td>8</td>\n",
       "      <td>1549980760</td>\n",
       "      <td>af5570f5a1</td>\n",
       "      <td>https://host.ru/3004a8273caeef2867</td>\n",
       "      <td>China</td>\n",
       "      <td>45664f7af2</td>\n",
       "      <td>direct</td>\n",
       "    </tr>\n",
       "    <tr>\n",
       "      <td>9</td>\n",
       "      <td>1549980765</td>\n",
       "      <td>3e7077fd2f</td>\n",
       "      <td>https://host.ru/df646c3676cc259fa0</td>\n",
       "      <td>Russia</td>\n",
       "      <td>6f9de8c8b6</td>\n",
       "      <td>email</td>\n",
       "    </tr>\n",
       "    <tr>\n",
       "      <td>10</td>\n",
       "      <td>1549980777</td>\n",
       "      <td>01d448afd9</td>\n",
       "      <td>https://host.ru/a5dda93e70318570c0</td>\n",
       "      <td>India</td>\n",
       "      <td>27e76a4a80</td>\n",
       "      <td>direct</td>\n",
       "    </tr>\n",
       "    <tr>\n",
       "      <td>11</td>\n",
       "      <td>1549980785</td>\n",
       "      <td>71b6c1d538</td>\n",
       "      <td>https://host.ru/c8d9213a31839f9a3a</td>\n",
       "      <td>Ukraine</td>\n",
       "      <td>3b13701488</td>\n",
       "      <td>google</td>\n",
       "    </tr>\n",
       "    <tr>\n",
       "      <td>12</td>\n",
       "      <td>1549980789</td>\n",
       "      <td>15ec7bf0b5</td>\n",
       "      <td>https://host.ru/8e88d4703848cc0ec4</td>\n",
       "      <td>Russia</td>\n",
       "      <td>6d1d81f7f8</td>\n",
       "      <td>paid</td>\n",
       "    </tr>\n",
       "    <tr>\n",
       "      <td>13</td>\n",
       "      <td>1549980792</td>\n",
       "      <td>dd46c3eebb</td>\n",
       "      <td>https://host.ru/3004a8273caeef2867</td>\n",
       "      <td>China</td>\n",
       "      <td>7e301c8c41</td>\n",
       "      <td>direct</td>\n",
       "    </tr>\n",
       "    <tr>\n",
       "      <td>14</td>\n",
       "      <td>1549980793</td>\n",
       "      <td>e7ecebbc59</td>\n",
       "      <td>https://host.ru/05e41944dd85a900a6</td>\n",
       "      <td>Belarus</td>\n",
       "      <td>ac52dedc3b</td>\n",
       "      <td>direct</td>\n",
       "    </tr>\n",
       "    <tr>\n",
       "      <td>15</td>\n",
       "      <td>1549980797</td>\n",
       "      <td>5322fecfc9</td>\n",
       "      <td>https://host.ru/4adc8a29b212051b04</td>\n",
       "      <td>Belarus</td>\n",
       "      <td>9a45d98867</td>\n",
       "      <td>paid</td>\n",
       "    </tr>\n",
       "    <tr>\n",
       "      <td>16</td>\n",
       "      <td>1549980801</td>\n",
       "      <td>374708fff7</td>\n",
       "      <td>https://host.ru/39fa884393666d45fc</td>\n",
       "      <td>Russia</td>\n",
       "      <td>e9bd59e22d</td>\n",
       "      <td>google</td>\n",
       "    </tr>\n",
       "    <tr>\n",
       "      <td>17</td>\n",
       "      <td>1549980807</td>\n",
       "      <td>0a88111852</td>\n",
       "      <td>https://host.ru/2fcb223266880ccf57</td>\n",
       "      <td>Ukraine</td>\n",
       "      <td>a2ba8fa3db</td>\n",
       "      <td>paid</td>\n",
       "    </tr>\n",
       "    <tr>\n",
       "      <td>18</td>\n",
       "      <td>1549980814</td>\n",
       "      <td>60daa3a5f7</td>\n",
       "      <td>https://host.ru/ef57543002ce2a0f2a</td>\n",
       "      <td>Belarus</td>\n",
       "      <td>72cb10fb5c</td>\n",
       "      <td>direct</td>\n",
       "    </tr>\n",
       "    <tr>\n",
       "      <td>19</td>\n",
       "      <td>1549980816</td>\n",
       "      <td>d6fd62f5ce</td>\n",
       "      <td>https://host.ru/f1eb4601740d627ab0</td>\n",
       "      <td>Belarus</td>\n",
       "      <td>7269dcd869</td>\n",
       "      <td>direct</td>\n",
       "    </tr>\n",
       "  </tbody>\n",
       "</table>\n",
       "</div>"
      ],
      "text/plain": [
       "     timestamp    visit_id                                 url   region  \\\n",
       "0   1549980692  e3b0c44298  https://host.ru/3c19b4ef7371864fa3   Russia   \n",
       "1   1549980704  6e340b9cff  https://host.ru/c8d9213a31839f9a3a   Russia   \n",
       "2   1549980715  96a296d224  https://host.ru/b8b58337d272ee7b15   Russia   \n",
       "3   1549980725  709e80c884  https://host.ru/b8b58337d272ee7b15   Russia   \n",
       "4   1549980736  df3f619804  https://host.ru/b8b58337d272ee7b15   Russia   \n",
       "5   1549980742  8855508aad  https://host.ru/df646c3676cc259fa0   Russia   \n",
       "6   1549980742  b0f66adc83  https://host.ru/b8b58337d272ee7b15   Russia   \n",
       "7   1549980754  837885c8f8  https://host.ru/108ce4b365afb7b88e   Russia   \n",
       "8   1549980760  af5570f5a1  https://host.ru/3004a8273caeef2867    China   \n",
       "9   1549980765  3e7077fd2f  https://host.ru/df646c3676cc259fa0   Russia   \n",
       "10  1549980777  01d448afd9  https://host.ru/a5dda93e70318570c0    India   \n",
       "11  1549980785  71b6c1d538  https://host.ru/c8d9213a31839f9a3a  Ukraine   \n",
       "12  1549980789  15ec7bf0b5  https://host.ru/8e88d4703848cc0ec4   Russia   \n",
       "13  1549980792  dd46c3eebb  https://host.ru/3004a8273caeef2867    China   \n",
       "14  1549980793  e7ecebbc59  https://host.ru/05e41944dd85a900a6  Belarus   \n",
       "15  1549980797  5322fecfc9  https://host.ru/4adc8a29b212051b04  Belarus   \n",
       "16  1549980801  374708fff7  https://host.ru/39fa884393666d45fc   Russia   \n",
       "17  1549980807  0a88111852  https://host.ru/2fcb223266880ccf57  Ukraine   \n",
       "18  1549980814  60daa3a5f7  https://host.ru/ef57543002ce2a0f2a  Belarus   \n",
       "19  1549980816  d6fd62f5ce  https://host.ru/f1eb4601740d627ab0  Belarus   \n",
       "\n",
       "       user_id traffic_source  \n",
       "0   b1613cc09f         yandex  \n",
       "1   4c3ec14bee         direct  \n",
       "2   a8c40697fb         yandex  \n",
       "3   521ac1d6a0         yandex  \n",
       "4   d7323c571c         yandex  \n",
       "5   fc43898e47         yandex  \n",
       "6   13fc55e781           paid  \n",
       "7   cb5082b6f6         direct  \n",
       "8   45664f7af2         direct  \n",
       "9   6f9de8c8b6          email  \n",
       "10  27e76a4a80         direct  \n",
       "11  3b13701488         google  \n",
       "12  6d1d81f7f8           paid  \n",
       "13  7e301c8c41         direct  \n",
       "14  ac52dedc3b         direct  \n",
       "15  9a45d98867           paid  \n",
       "16  e9bd59e22d         google  \n",
       "17  a2ba8fa3db           paid  \n",
       "18  72cb10fb5c         direct  \n",
       "19  7269dcd869         direct  "
      ]
     },
     "execution_count": 39,
     "metadata": {},
     "output_type": "execute_result"
    }
   ],
   "source": [
    "log = pd.read_csv('visit_log.csv', sep=';')\n",
    "log.head(20)"
   ]
  },
  {
   "cell_type": "code",
   "execution_count": 40,
   "metadata": {},
   "outputs": [
    {
     "data": {
      "text/html": [
       "<div>\n",
       "<style scoped>\n",
       "    .dataframe tbody tr th:only-of-type {\n",
       "        vertical-align: middle;\n",
       "    }\n",
       "\n",
       "    .dataframe tbody tr th {\n",
       "        vertical-align: top;\n",
       "    }\n",
       "\n",
       "    .dataframe thead th {\n",
       "        text-align: right;\n",
       "    }\n",
       "</style>\n",
       "<table border=\"1\" class=\"dataframe\">\n",
       "  <thead>\n",
       "    <tr style=\"text-align: right;\">\n",
       "      <th></th>\n",
       "      <th>timestamp</th>\n",
       "      <th>visit_id</th>\n",
       "      <th>url</th>\n",
       "      <th>region</th>\n",
       "      <th>user_id</th>\n",
       "      <th>traffic_source</th>\n",
       "    </tr>\n",
       "  </thead>\n",
       "  <tbody>\n",
       "    <tr>\n",
       "      <td>0</td>\n",
       "      <td>1549980692</td>\n",
       "      <td>e3b0c44298</td>\n",
       "      <td>https://host.ru/3c19b4ef7371864fa3</td>\n",
       "      <td>Russia</td>\n",
       "      <td>b1613cc09f</td>\n",
       "      <td>yandex</td>\n",
       "    </tr>\n",
       "    <tr>\n",
       "      <td>1</td>\n",
       "      <td>1549980704</td>\n",
       "      <td>6e340b9cff</td>\n",
       "      <td>https://host.ru/c8d9213a31839f9a3a</td>\n",
       "      <td>Russia</td>\n",
       "      <td>4c3ec14bee</td>\n",
       "      <td>direct</td>\n",
       "    </tr>\n",
       "    <tr>\n",
       "      <td>2</td>\n",
       "      <td>1549980715</td>\n",
       "      <td>96a296d224</td>\n",
       "      <td>https://host.ru/b8b58337d272ee7b15</td>\n",
       "      <td>Russia</td>\n",
       "      <td>a8c40697fb</td>\n",
       "      <td>yandex</td>\n",
       "    </tr>\n",
       "    <tr>\n",
       "      <td>3</td>\n",
       "      <td>1549980725</td>\n",
       "      <td>709e80c884</td>\n",
       "      <td>https://host.ru/b8b58337d272ee7b15</td>\n",
       "      <td>Russia</td>\n",
       "      <td>521ac1d6a0</td>\n",
       "      <td>yandex</td>\n",
       "    </tr>\n",
       "    <tr>\n",
       "      <td>4</td>\n",
       "      <td>1549980736</td>\n",
       "      <td>df3f619804</td>\n",
       "      <td>https://host.ru/b8b58337d272ee7b15</td>\n",
       "      <td>Russia</td>\n",
       "      <td>d7323c571c</td>\n",
       "      <td>yandex</td>\n",
       "    </tr>\n",
       "  </tbody>\n",
       "</table>\n",
       "</div>"
      ],
      "text/plain": [
       "    timestamp    visit_id                                 url  region  \\\n",
       "0  1549980692  e3b0c44298  https://host.ru/3c19b4ef7371864fa3  Russia   \n",
       "1  1549980704  6e340b9cff  https://host.ru/c8d9213a31839f9a3a  Russia   \n",
       "2  1549980715  96a296d224  https://host.ru/b8b58337d272ee7b15  Russia   \n",
       "3  1549980725  709e80c884  https://host.ru/b8b58337d272ee7b15  Russia   \n",
       "4  1549980736  df3f619804  https://host.ru/b8b58337d272ee7b15  Russia   \n",
       "\n",
       "      user_id traffic_source  \n",
       "0  b1613cc09f         yandex  \n",
       "1  4c3ec14bee         direct  \n",
       "2  a8c40697fb         yandex  \n",
       "3  521ac1d6a0         yandex  \n",
       "4  d7323c571c         yandex  "
      ]
     },
     "execution_count": 40,
     "metadata": {},
     "output_type": "execute_result"
    }
   ],
   "source": [
    "log.loc[log.region == 'Russia'].head()"
   ]
  },
  {
   "cell_type": "code",
   "execution_count": null,
   "metadata": {},
   "outputs": [],
   "source": []
  }
 ],
 "metadata": {
  "kernelspec": {
   "display_name": "Python 3",
   "language": "python",
   "name": "python3"
  }
 },
 "nbformat": 4,
 "nbformat_minor": 2
}
